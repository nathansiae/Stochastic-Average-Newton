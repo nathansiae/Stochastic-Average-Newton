{
 "cells": [
  {
   "cell_type": "code",
   "execution_count": 1,
   "metadata": {},
   "outputs": [],
   "source": [
    "import os\n",
    "import argparse\n",
    "import logging\n",
    "import math\n",
    "import time\n",
    "import numpy as np\n",
    "from sklearn.model_selection import train_test_split\n",
    "import load_data\n",
    "from algorithms import san, sag, svrg, snm, sana, gd, newton, san_id\n",
    "import utils\n",
    "import loss\n",
    "import regularizer"
   ]
  },
  {
   "cell_type": "code",
   "execution_count": 2,
   "metadata": {},
   "outputs": [
    {
     "name": "stdout",
     "output_type": "stream",
     "text": [
      "phising:\n",
      "n = 11055; d = 68\n",
      "Lmax = 0.5001\n",
      "sparsity = 0.5588\n",
      "Condition number = 4.106468407158047e+18\n",
      "\n",
      "mushrooms:\n",
      "n = 8124; d = 112\n",
      "Lmax = 5.5001\n",
      "sparsity = 0.8125\n",
      "Condition number = 1.3094568294529044e+19\n",
      "\n",
      "ijcnn1:\n",
      "n = 49990; d = 22\n",
      "Lmax = 1.2342\n",
      "sparsity = 0.4091\n",
      "Condition number = 25.6587\n",
      "\n",
      "covtype:\n",
      "n = 581012; d = 54\n",
      "Lmax = 2.154\n",
      "sparsity = 0.7788\n",
      "Condition number = 9.692637862291323e+17\n",
      "\n"
     ]
    }
   ],
   "source": [
    "path = [\"./datasets/phishing\", \"./datasets/mushrooms\", \"./datasets/ijcnn1\", \"./datasets/covtype\"]\n",
    "datasets = [\"phising\", \"mushrooms\", \"ijcnn1\", \"covtype\"]\n",
    "\n",
    "for i in range(len(path)):\n",
    "    X, y = load_data.get_data(path[i])\n",
    "    X = X.toarray()\n",
    "    sparsity = load_data.sparsity(X)\n",
    "    CN = utils.cond(X)\n",
    "    n, d = X.shape\n",
    "    reg = 1. / n\n",
    "    Lmax = utils.max_Li_logistic(X, reg) + 0.25  # considering the intercept, i.e. column ones\n",
    "    \n",
    "    print(datasets[i] + \":\")\n",
    "    print(\"n = \" + str(n) + \"; d = \" + str(d))\n",
    "    print(\"Lmax = \" + str(round(Lmax, 4)))\n",
    "    print(\"sparsity = \" + str(round(sparsity, 4)))\n",
    "    print(\"Condition number = \" + str(round(CN, 4)))\n",
    "    print()"
   ]
  },
  {
   "cell_type": "code",
   "execution_count": 3,
   "metadata": {},
   "outputs": [
    {
     "name": "stdout",
     "output_type": "stream",
     "text": [
      "webspam:\n",
      "n = 350000; d = 254\n",
      "Lmax = 0.5\n",
      "sparsity = 0.6648\n",
      "Condition number = 6.997293984960953e+255\n",
      "\n",
      "epsilon:\n",
      "n = 400000; d = 2000\n",
      "Lmax = 0.5\n",
      "sparsity = 0.0\n",
      "Condition number = 32110682360.8111\n",
      "\n",
      "rcv1:\n",
      "n = 20242; d = 47236\n",
      "Lmax = 0.5\n",
      "sparsity = 0.9984\n",
      "Condition number = 5.391466132245335e+25\n",
      "\n",
      "real-sim:\n",
      "n = 72309; d = 20958\n",
      "Lmax = 0.5\n",
      "sparsity = 0.9976\n",
      "Condition number = 1.3987294173463867e+20\n",
      "\n"
     ]
    }
   ],
   "source": [
    "path = [\"./datasets/webspam\", \"./datasets/epsilon\", \"./datasets/rcv1\", \"./datasets/real-sim\"]\n",
    "datasets = [\"webspam\", \"epsilon\", \"rcv1\", \"real-sim\"]\n",
    "\n",
    "for i in range(len(path)):\n",
    "    X, y = load_data.get_data(path[i])\n",
    "    X = X.toarray()\n",
    "    sparsity = load_data.sparsity(X)\n",
    "    CN = utils.cond(X)\n",
    "    n, d = X.shape\n",
    "    reg = 1. / n\n",
    "    Lmax = utils.max_Li_logistic(X, reg) + 0.25  # considering the intercept, i.e. column ones\n",
    "    \n",
    "    print(datasets[i] + \":\")\n",
    "    print(\"n = \" + str(n) + \"; d = \" + str(d))\n",
    "    print(\"Lmax = \" + str(round(Lmax, 4)))\n",
    "    print(\"sparsity = \" + str(round(sparsity, 4)))\n",
    "    print(\"Condition number = \" + str(round(CN, 4)))\n",
    "    print()"
   ]
  },
  {
   "cell_type": "code",
   "execution_count": null,
   "metadata": {},
   "outputs": [],
   "source": []
  }
 ],
 "metadata": {
  "kernelspec": {
   "display_name": "Python 3",
   "language": "python",
   "name": "python3"
  },
  "language_info": {
   "codemirror_mode": {
    "name": "ipython",
    "version": 3
   },
   "file_extension": ".py",
   "mimetype": "text/x-python",
   "name": "python",
   "nbconvert_exporter": "python",
   "pygments_lexer": "ipython3",
   "version": "3.7.7"
  }
 },
 "nbformat": 4,
 "nbformat_minor": 4
}
